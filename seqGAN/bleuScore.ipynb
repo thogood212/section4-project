{
 "cells": [
  {
   "cell_type": "code",
   "execution_count": 1,
   "metadata": {},
   "outputs": [],
   "source": [
    "from nltk.translate.bleu_score import sentence_bleu\n",
    "import pickle\n",
    "\n",
    "\n",
    "from nltk.translate.bleu_score import corpus_bleu"
   ]
  },
  {
   "cell_type": "code",
   "execution_count": 2,
   "metadata": {},
   "outputs": [],
   "source": [
    "#  refrence : real data\n",
    "a = open('./data/pk_data_index.pkl', 'rb')\n",
    "reference = pickle.load(a)\n",
    "\n",
    "# candidate : generated data\n",
    "a = open('./save/eval_file.txt','r',encoding='utf-8')\n",
    "candidate=a.readlines()\n",
    "\n",
    "# idx2pos\n",
    "a = open('./data/pk_idx2pos.pkl', 'rb')\n",
    "int_to_vocab = pickle.load(a)\n"
   ]
  },
  {
   "cell_type": "code",
   "execution_count": 7,
   "metadata": {},
   "outputs": [],
   "source": [
    "#  refrence : real data\n",
    "a = open('./data/pk_real_data.pkl', 'rb')\n",
    "reference_before = pickle.load(a)"
   ]
  },
  {
   "cell_type": "code",
   "execution_count": 19,
   "metadata": {},
   "outputs": [],
   "source": [
    "#reference_before[0][0][0]  # '태어나'\n",
    "\n",
    "sentence=[]\n",
    "total=[]\n",
    "\n",
    "for sen in reference_before:\n",
    "    sentence=[]\n",
    "    for i in range(len(sen)):\n",
    "        sentence.append(sen[i][0])\n",
    "    total.append(sentence)"
   ]
  },
  {
   "cell_type": "code",
   "execution_count": 21,
   "metadata": {},
   "outputs": [],
   "source": [
    "a = open('./data/pk_pos2idx.pkl', 'rb')\n",
    "pos2idx = pickle.load(a)\n"
   ]
  },
  {
   "cell_type": "code",
   "execution_count": 23,
   "metadata": {},
   "outputs": [],
   "source": [
    "tmp=[]\n",
    "for sen in total:\n",
    "    \n",
    "    sentence=[]\n",
    "    for i in sen:\n",
    "        sentence.append(pos2idx[i])\n",
    "    tmp.append(sentence)"
   ]
  },
  {
   "cell_type": "code",
   "execution_count": 27,
   "metadata": {},
   "outputs": [],
   "source": [
    "reference_before"
   ]
  },
  {
   "cell_type": "code",
   "execution_count": 41,
   "metadata": {},
   "outputs": [],
   "source": [
    "# 정수에서 str로 바꾸기\n",
    "tmp=[]\n",
    "for sen in reference_before:\n",
    "    sentence=[]\n",
    "    for i in sen:\n",
    "        sentence.append(str(i))\n",
    "    tmp.append(sentence)\n",
    "    \n",
    "reference_before=tmp\n",
    "        "
   ]
  },
  {
   "cell_type": "code",
   "execution_count": 31,
   "metadata": {},
   "outputs": [],
   "source": [
    "# candidate 정제\n",
    "\n",
    "total=[]\n",
    "for sen in candidate:\n",
    "    a=sen.split() # pos단위로 분리하기\n",
    "    total.append(a)\n",
    "    \n",
    "candidate=total"
   ]
  },
  {
   "cell_type": "code",
   "execution_count": 32,
   "metadata": {},
   "outputs": [],
   "source": [
    "total=[]\n",
    "for sen in reference:\n",
    "    sentence=[]\n",
    "    for pos in sen:\n",
    "        sentence.append(str(pos))\n",
    "    total.append(sentence)"
   ]
  },
  {
   "cell_type": "code",
   "execution_count": 33,
   "metadata": {},
   "outputs": [],
   "source": [
    "reference=total"
   ]
  },
  {
   "cell_type": "code",
   "execution_count": 34,
   "metadata": {
    "scrolled": true
   },
   "outputs": [
    {
     "name": "stdout",
     "output_type": "stream",
     "text": [
      "0.2979260336350717\n",
      "0.2530947564188994\n",
      "0.4513182217725055\n",
      "0.32261468299137214\n",
      "0.30901532587310254\n",
      "0.27443300605008203\n",
      "0.46681818210989634\n"
     ]
    },
    {
     "name": "stderr",
     "output_type": "stream",
     "text": [
      "/home/inhaq/anaconda3/lib/python3.6/site-packages/nltk/translate/bleu_score.py:503: UserWarning: \n",
      "The hypothesis contains 0 counts of 4-gram overlaps.\n",
      "Therefore the BLEU score evaluates to 0, independently of\n",
      "how many N-gram overlaps of lower order it contains.\n",
      "Consider using lower n-gram order or use SmoothingFunction()\n",
      "  warnings.warn(_msg)\n"
     ]
    },
    {
     "name": "stdout",
     "output_type": "stream",
     "text": [
      "5.673307580303457e-78\n",
      "0.7036186386199826\n",
      "0.7497316221601669\n",
      "6.096365739780591e-78\n",
      "0.5068630865337097\n",
      "0.6364996151971676\n",
      "0.7585019042103714\n",
      "0.7029895645547451\n",
      "0.854940505539887\n",
      "0.4251792087696157\n",
      "0.4278746044216923\n",
      "0.36656105072156997\n",
      "0.5056261402200543\n",
      "0.6125900907632833\n",
      "0.2673172753565273\n",
      "0.33122529987734056\n",
      "0.39277166160838917\n",
      "0.24068109230631593\n",
      "0.7974589219888651\n",
      "6.286116011812323e-78\n",
      "0.24068109230631593\n",
      "0.39389548328304336\n",
      "0.8995456896321271\n",
      "0.27196801514995267\n",
      "0.7161209222303266\n",
      "0.74211914773716\n",
      "0.2696727212129215\n",
      "0.20455275179869584\n",
      "0.36656105072156997\n",
      "0.8459346103529777\n",
      "8.389818040840686e-78\n",
      "6.996523202152383e-78\n",
      "0.8205976470484391\n",
      "0.3178956058171238\n",
      "0.37462215426558176\n",
      "0.45739385800652627\n",
      "0.33850932919101606\n",
      "0.5341565577893692\n",
      "0.36674604247902215\n",
      "0.4495722771653879\n",
      "0.3342511807019055\n",
      "0.3195851016531034\n",
      "0.7860131740896756\n",
      "0.3518093193099913\n",
      "0.5384131218403696\n",
      "0.40652426747355414\n",
      "0.5253244815401804\n",
      "0.6492647682042967\n",
      "0.4183741456477059\n",
      "6.403664386008389e-78\n",
      "0.4787244843317536\n",
      "0.3453513585208172\n",
      "0.481933438528149\n",
      "0.40255770276875463\n",
      "0.38841068121376743\n",
      "0.3032962308291237\n",
      "0.3971376948468921\n"
     ]
    }
   ],
   "source": [
    "# sentence lenth =40\n",
    "for can in candidate:\n",
    "    print(sentence_bleu(reference, can))"
   ]
  },
  {
   "cell_type": "code",
   "execution_count": 42,
   "metadata": {},
   "outputs": [
    {
     "name": "stdout",
     "output_type": "stream",
     "text": [
      "0.293266195146977\n"
     ]
    },
    {
     "name": "stderr",
     "output_type": "stream",
     "text": [
      "/home/inhaq/anaconda3/lib/python3.6/site-packages/nltk/translate/bleu_score.py:503: UserWarning: \n",
      "The hypothesis contains 0 counts of 4-gram overlaps.\n",
      "Therefore the BLEU score evaluates to 0, independently of\n",
      "how many N-gram overlaps of lower order it contains.\n",
      "Consider using lower n-gram order or use SmoothingFunction()\n",
      "  warnings.warn(_msg)\n"
     ]
    },
    {
     "name": "stdout",
     "output_type": "stream",
     "text": [
      "6.374883143554378e-78\n",
      "0.26200564316692165\n",
      "0.3195851016531034\n",
      "0.23498848772025102\n",
      "0.2678289580307217\n",
      "0.4630071026583851\n",
      "5.637512054848198e-78\n",
      "0.28285528465878046\n",
      "3.361079526021016e-78\n",
      "6.057900944432547e-78\n",
      "0.4398992927204655\n",
      "4.329403075229433e-78\n",
      "0.19871426593717226\n",
      "0.31151489708327085\n",
      "2.410847204969727e-78\n",
      "0.3255612416171093\n",
      "0.39883729858671\n",
      "0.30963151103801795\n",
      "0.3795118748271808\n",
      "0.17092239961607694\n",
      "0.24002438470692242\n",
      "0.33122529987734056\n",
      "7.169211202400779e-78\n",
      "0.24068109230631593\n",
      "0.24325558783239473\n",
      "5.601021386508727e-78\n",
      "0.22754476677177926\n",
      "0.3648833817485921\n"
     ]
    },
    {
     "name": "stderr",
     "output_type": "stream",
     "text": [
      "/home/inhaq/anaconda3/lib/python3.6/site-packages/nltk/translate/bleu_score.py:503: UserWarning: \n",
      "The hypothesis contains 0 counts of 2-gram overlaps.\n",
      "Therefore the BLEU score evaluates to 0, independently of\n",
      "how many N-gram overlaps of lower order it contains.\n",
      "Consider using lower n-gram order or use SmoothingFunction()\n",
      "  warnings.warn(_msg)\n",
      "/home/inhaq/anaconda3/lib/python3.6/site-packages/nltk/translate/bleu_score.py:503: UserWarning: \n",
      "The hypothesis contains 0 counts of 3-gram overlaps.\n",
      "Therefore the BLEU score evaluates to 0, independently of\n",
      "how many N-gram overlaps of lower order it contains.\n",
      "Consider using lower n-gram order or use SmoothingFunction()\n",
      "  warnings.warn(_msg)\n"
     ]
    },
    {
     "name": "stdout",
     "output_type": "stream",
     "text": [
      "1.0832677820940877e-231\n",
      "0.20455275179869584\n",
      "0.29671175379306625\n",
      "3.310522574517933e-78\n",
      "0.2603680276814603\n",
      "0.18072843363234425\n",
      "0.3409510796929953\n",
      "0.11846592694382017\n",
      "8.389818040840686e-78\n",
      "6.902588836573121e-78\n",
      "3.628854480077771e-78\n",
      "0.23768240335710886\n",
      "0.2587252451898194\n",
      "0.3722584895657008\n",
      "0.2696727212129215\n",
      "0.4787244843317536\n",
      "0.33730401974360025\n",
      "0.3651646022900717\n",
      "0.3213856523369838\n",
      "0.30587770809762665\n",
      "3.201832193004189e-78\n",
      "0.2746478265715413\n",
      "0.5341565577893692\n",
      "0.40331038483846443\n",
      "0.4630071026583851\n",
      "0.287571163794528\n",
      "0.41484324647418985\n",
      "5.792811181836023e-78\n",
      "0.3956738376701904\n",
      "0.27617552536680623\n",
      "0.4241373503920359\n",
      "0.3284813656979714\n",
      "0.3312252998773406\n",
      "0.30064710174052606\n",
      "0.39389548328304336\n"
     ]
    }
   ],
   "source": [
    "# sentence lenth 정제하기 전\n",
    "for can in candidate:\n",
    "    print(sentence_bleu(reference_before, can))\n",
    "    "
   ]
  },
  {
   "cell_type": "code",
   "execution_count": 36,
   "metadata": {
    "scrolled": true
   },
   "outputs": [
    {
     "name": "stdout",
     "output_type": "stream",
     "text": [
      "0.6923076923076923\n",
      "0.6410256410256411\n",
      "0.6410256410256411\n",
      "0.6923076923076923\n",
      "0.6410256410256411\n",
      "0.7435897435897436\n",
      "0.7948717948717948\n"
     ]
    },
    {
     "name": "stderr",
     "output_type": "stream",
     "text": [
      "/home/inhaq/anaconda3/lib/python3.6/site-packages/nltk/translate/bleu_score.py:503: UserWarning: \n",
      "The hypothesis contains 0 counts of 4-gram overlaps.\n",
      "Therefore the BLEU score evaluates to 0, independently of\n",
      "how many N-gram overlaps of lower order it contains.\n",
      "Consider using lower n-gram order or use SmoothingFunction()\n",
      "  warnings.warn(_msg)\n"
     ]
    },
    {
     "name": "stdout",
     "output_type": "stream",
     "text": [
      "0.5897435897435898\n",
      "0.8974358974358975\n",
      "0.8461538461538461\n",
      "0.5897435897435898\n",
      "0.7435897435897436\n",
      "0.7692307692307693\n",
      "0.8461538461538461\n",
      "0.7948717948717948\n",
      "0.8974358974358975\n",
      "0.8205128205128205\n",
      "0.7435897435897436\n",
      "0.7692307692307693\n",
      "0.8205128205128205\n",
      "0.8461538461538461\n",
      "0.717948717948718\n",
      "0.8461538461538461\n",
      "0.7435897435897436\n",
      "0.5897435897435898\n",
      "0.9230769230769231\n",
      "0.6666666666666666\n",
      "0.5897435897435898\n",
      "0.7692307692307693\n",
      "0.8717948717948718\n",
      "0.6410256410256411\n",
      "0.8461538461538461\n",
      "0.8461538461538461\n",
      "0.7435897435897436\n",
      "0.6153846153846154\n",
      "0.7692307692307693\n",
      "0.9230769230769231\n",
      "0.7692307692307693\n",
      "0.6153846153846154\n",
      "0.9487179487179487\n",
      "0.717948717948718\n",
      "0.7692307692307693\n",
      "0.7692307692307693\n",
      "0.7692307692307693\n",
      "0.7948717948717948\n",
      "0.7948717948717948\n",
      "0.717948717948718\n",
      "0.6666666666666666\n",
      "0.6666666666666666\n",
      "0.8974358974358975\n",
      "0.717948717948718\n",
      "0.8205128205128205\n",
      "0.8205128205128205\n",
      "0.7435897435897436\n",
      "0.7435897435897436\n",
      "0.7692307692307693\n",
      "0.717948717948718\n",
      "0.7692307692307693\n",
      "0.7692307692307693\n",
      "0.7435897435897436\n",
      "0.6153846153846154\n",
      "0.8205128205128205\n",
      "0.7435897435897436\n",
      "0.7948717948717948\n"
     ]
    }
   ],
   "source": [
    "# 2-gram\n",
    "for can in candidate:\n",
    "    print(sentence_bleu(reference, can, weights=(0,1,0,0)))"
   ]
  },
  {
   "cell_type": "code",
   "execution_count": 43,
   "metadata": {},
   "outputs": [
    {
     "name": "stdout",
     "output_type": "stream",
     "text": [
      "0.6666666666666666\n"
     ]
    },
    {
     "name": "stderr",
     "output_type": "stream",
     "text": [
      "/home/inhaq/anaconda3/lib/python3.6/site-packages/nltk/translate/bleu_score.py:503: UserWarning: \n",
      "The hypothesis contains 0 counts of 4-gram overlaps.\n",
      "Therefore the BLEU score evaluates to 0, independently of\n",
      "how many N-gram overlaps of lower order it contains.\n",
      "Consider using lower n-gram order or use SmoothingFunction()\n",
      "  warnings.warn(_msg)\n"
     ]
    },
    {
     "name": "stdout",
     "output_type": "stream",
     "text": [
      "0.5641025641025641\n",
      "0.48717948717948717\n",
      "0.6666666666666666\n",
      "0.5641025641025641\n",
      "0.6923076923076923\n",
      "0.7692307692307693\n",
      "0.5897435897435898\n",
      "0.5128205128205128\n",
      "0.2564102564102564\n",
      "0.5897435897435898\n",
      "0.6923076923076923\n",
      "0.3333333333333333\n",
      "0.30769230769230765\n",
      "0.4358974358974359\n",
      "0.1282051282051282\n",
      "0.717948717948718\n",
      "0.6410256410256411\n",
      "0.717948717948718\n",
      "0.6666666666666666\n",
      "0.46153846153846156\n",
      "0.6666666666666666\n",
      "0.8461538461538461\n",
      "0.5897435897435898\n",
      "0.5897435897435898\n",
      "0.41025641025641024\n",
      "0.5897435897435898\n",
      "0.5384615384615384\n",
      "0.6923076923076923\n"
     ]
    },
    {
     "name": "stderr",
     "output_type": "stream",
     "text": [
      "/home/inhaq/anaconda3/lib/python3.6/site-packages/nltk/translate/bleu_score.py:503: UserWarning: \n",
      "The hypothesis contains 0 counts of 2-gram overlaps.\n",
      "Therefore the BLEU score evaluates to 0, independently of\n",
      "how many N-gram overlaps of lower order it contains.\n",
      "Consider using lower n-gram order or use SmoothingFunction()\n",
      "  warnings.warn(_msg)\n",
      "/home/inhaq/anaconda3/lib/python3.6/site-packages/nltk/translate/bleu_score.py:503: UserWarning: \n",
      "The hypothesis contains 0 counts of 3-gram overlaps.\n",
      "Therefore the BLEU score evaluates to 0, independently of\n",
      "how many N-gram overlaps of lower order it contains.\n",
      "Consider using lower n-gram order or use SmoothingFunction()\n",
      "  warnings.warn(_msg)\n"
     ]
    },
    {
     "name": "stdout",
     "output_type": "stream",
     "text": [
      "2.2250738585072626e-308\n",
      "0.6153846153846154\n",
      "0.4358974358974359\n",
      "0.2564102564102564\n",
      "0.717948717948718\n",
      "0.5128205128205128\n",
      "0.6666666666666666\n",
      "0.23076923076923078\n",
      "0.7692307692307693\n",
      "0.6153846153846154\n",
      "0.28205128205128205\n",
      "0.6410256410256411\n",
      "0.717948717948718\n",
      "0.6923076923076923\n",
      "0.7435897435897436\n",
      "0.7692307692307693\n",
      "0.717948717948718\n",
      "0.6410256410256411\n",
      "0.6410256410256411\n",
      "0.6153846153846154\n",
      "0.2564102564102564\n",
      "0.6666666666666666\n",
      "0.7948717948717948\n",
      "0.7948717948717948\n",
      "0.717948717948718\n",
      "0.38461538461538464\n",
      "0.7435897435897436\n",
      "0.6410256410256411\n",
      "0.717948717948718\n",
      "0.7435897435897436\n",
      "0.6666666666666666\n",
      "0.5384615384615384\n",
      "0.7692307692307693\n",
      "0.717948717948718\n",
      "0.7692307692307693\n"
     ]
    }
   ],
   "source": [
    "# 2-gram\n",
    "for can in candidate:\n",
    "    print(sentence_bleu(reference_before, can, weights=(0,1,0,0)))"
   ]
  },
  {
   "cell_type": "code",
   "execution_count": 69,
   "metadata": {},
   "outputs": [
    {
     "name": "stdout",
     "output_type": "stream",
     "text": [
      "0.21052631578947367\n",
      "0.23684210526315785\n",
      "0.3421052631578948\n",
      "0.2894736842105263\n",
      "0.2631578947368421\n",
      "0.2894736842105263\n",
      "0.3684210526315789\n"
     ]
    },
    {
     "name": "stderr",
     "output_type": "stream",
     "text": [
      "/home/inhaq/anaconda3/lib/python3.6/site-packages/nltk/translate/bleu_score.py:503: UserWarning: \n",
      "The hypothesis contains 0 counts of 4-gram overlaps.\n",
      "Therefore the BLEU score evaluates to 0, independently of\n",
      "how many N-gram overlaps of lower order it contains.\n",
      "Consider using lower n-gram order or use SmoothingFunction()\n",
      "  warnings.warn(_msg)\n"
     ]
    },
    {
     "name": "stdout",
     "output_type": "stream",
     "text": [
      "0.07894736842105263\n",
      "0.631578947368421\n",
      "0.6578947368421053\n",
      "0.10526315789473682\n",
      "0.42105263157894735\n",
      "0.5263157894736842\n",
      "0.6578947368421053\n",
      "0.631578947368421\n",
      "0.8157894736842105\n",
      "0.3684210526315789\n",
      "0.3421052631578948\n",
      "0.2894736842105263\n",
      "0.3684210526315789\n",
      "0.47368421052631576\n",
      "0.2631578947368421\n",
      "0.2631578947368421\n",
      "0.39473684210526316\n",
      "0.21052631578947367\n",
      "0.7368421052631579\n",
      "0.10526315789473682\n",
      "0.21052631578947367\n",
      "0.2894736842105263\n",
      "0.868421052631579\n",
      "0.15789473684210523\n",
      "0.6052631578947368\n",
      "0.631578947368421\n",
      "0.2631578947368421\n",
      "0.10526315789473682\n",
      "0.2894736842105263\n",
      "0.7894736842105263\n",
      "0.2894736842105263\n",
      "0.1842105263157895\n",
      "0.7368421052631579\n",
      "0.2631578947368421\n",
      "0.3157894736842105\n",
      "0.42105263157894735\n",
      "0.3157894736842105\n",
      "0.47368421052631576\n",
      "0.42105263157894735\n",
      "0.42105263157894735\n",
      "0.23684210526315785\n",
      "0.2894736842105263\n",
      "0.6842105263157895\n",
      "0.2631578947368421\n",
      "0.42105263157894735\n",
      "0.3157894736842105\n",
      "0.42105263157894735\n",
      "0.5526315789473685\n",
      "0.3684210526315789\n",
      "0.10526315789473682\n",
      "0.42105263157894735\n",
      "0.3421052631578948\n",
      "0.4473684210526316\n",
      "0.2631578947368421\n",
      "0.3421052631578948\n",
      "0.21052631578947367\n",
      "0.2894736842105263\n"
     ]
    }
   ],
   "source": [
    "# 3-gram\n",
    "for can in candidate:\n",
    "    print(sentence_bleu(reference, can, weights=(0,0,1,0)))"
   ]
  },
  {
   "cell_type": "code",
   "execution_count": 70,
   "metadata": {},
   "outputs": [
    {
     "name": "stdout",
     "output_type": "stream",
     "text": [
      "0.054054054054054064\n",
      "0.02702702702702703\n",
      "0.1891891891891892\n",
      "0.054054054054054064\n",
      "0.054054054054054064\n",
      "0.02702702702702703\n",
      "0.16216216216216217\n"
     ]
    },
    {
     "name": "stderr",
     "output_type": "stream",
     "text": [
      "/home/inhaq/anaconda3/lib/python3.6/site-packages/nltk/translate/bleu_score.py:503: UserWarning: \n",
      "The hypothesis contains 0 counts of 4-gram overlaps.\n",
      "Therefore the BLEU score evaluates to 0, independently of\n",
      "how many N-gram overlaps of lower order it contains.\n",
      "Consider using lower n-gram order or use SmoothingFunction()\n",
      "  warnings.warn(_msg)\n"
     ]
    },
    {
     "name": "stdout",
     "output_type": "stream",
     "text": [
      "2.2250738585072626e-308\n",
      "0.43243243243243246\n",
      "0.5675675675675675\n",
      "2.2250738585072626e-308\n",
      "0.21621621621621626\n",
      "0.40540540540540543\n",
      "0.5945945945945946\n",
      "0.4864864864864865\n",
      "0.7297297297297297\n",
      "0.10810810810810814\n",
      "0.13513513513513517\n",
      "0.08108108108108107\n",
      "0.21621621621621626\n",
      "0.35135135135135137\n",
      "0.02702702702702703\n",
      "0.054054054054054064\n",
      "0.08108108108108107\n",
      "0.02702702702702703\n",
      "0.5945945945945946\n",
      "2.2250738585072626e-308\n",
      "0.02702702702702703\n",
      "0.10810810810810814\n",
      "0.8648648648648649\n",
      "0.054054054054054064\n",
      "0.5135135135135135\n",
      "0.5675675675675675\n",
      "0.02702702702702703\n",
      "0.02702702702702703\n",
      "0.08108108108108107\n",
      "0.7027027027027027\n",
      "2.2250738585072626e-308\n",
      "2.2250738585072626e-308\n",
      "0.6486486486486487\n",
      "0.054054054054054064\n",
      "0.08108108108108107\n",
      "0.13513513513513517\n",
      "0.054054054054054064\n",
      "0.21621621621621626\n",
      "0.054054054054054064\n",
      "0.13513513513513517\n",
      "0.08108108108108107\n",
      "0.054054054054054064\n",
      "0.6216216216216216\n",
      "0.08108108108108107\n",
      "0.24324324324324326\n",
      "0.10810810810810814\n",
      "0.24324324324324326\n",
      "0.43243243243243246\n",
      "0.10810810810810814\n",
      "2.2250738585072626e-308\n",
      "0.16216216216216217\n",
      "0.054054054054054064\n",
      "0.16216216216216217\n",
      "0.16216216216216217\n",
      "0.08108108108108107\n",
      "0.054054054054054064\n",
      "0.10810810810810814\n"
     ]
    }
   ],
   "source": [
    "# 4-gram\n",
    "for can in candidate:\n",
    "    print(sentence_bleu(reference, can, weights=(0,0,0,1)))"
   ]
  }
 ],
 "metadata": {
  "kernelspec": {
   "display_name": "Python 3",
   "language": "python",
   "name": "python3"
  },
  "language_info": {
   "codemirror_mode": {
    "name": "ipython",
    "version": 3
   },
   "file_extension": ".py",
   "mimetype": "text/x-python",
   "name": "python",
   "nbconvert_exporter": "python",
   "pygments_lexer": "ipython3",
   "version": "3.6.5"
  }
 },
 "nbformat": 4,
 "nbformat_minor": 2
}
